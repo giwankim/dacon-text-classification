{
 "cells": [
  {
   "cell_type": "code",
   "execution_count": 1,
   "metadata": {},
   "outputs": [
    {
     "data": {
      "application/javascript": [
       "\n",
       "            setTimeout(function() {\n",
       "                var nbb_cell_id = 1;\n",
       "                var nbb_unformatted_code = \"%reload_ext autoreload\\n%autoreload 2\\n%matplotlib inline\\n%reload_ext nb_black\";\n",
       "                var nbb_formatted_code = \"%reload_ext autoreload\\n%autoreload 2\\n%matplotlib inline\\n%reload_ext nb_black\";\n",
       "                var nbb_cells = Jupyter.notebook.get_cells();\n",
       "                for (var i = 0; i < nbb_cells.length; ++i) {\n",
       "                    if (nbb_cells[i].input_prompt_number == nbb_cell_id) {\n",
       "                        if (nbb_cells[i].get_text() == nbb_unformatted_code) {\n",
       "                             nbb_cells[i].set_text(nbb_formatted_code);\n",
       "                        }\n",
       "                        break;\n",
       "                    }\n",
       "                }\n",
       "            }, 500);\n",
       "            "
      ],
      "text/plain": [
       "<IPython.core.display.Javascript object>"
      ]
     },
     "metadata": {},
     "output_type": "display_data"
    }
   ],
   "source": [
    "%reload_ext autoreload\n",
    "%autoreload 2\n",
    "%matplotlib inline\n",
    "%reload_ext nb_black"
   ]
  },
  {
   "cell_type": "code",
   "execution_count": 2,
   "metadata": {},
   "outputs": [
    {
     "data": {
      "application/javascript": [
       "\n",
       "            setTimeout(function() {\n",
       "                var nbb_cell_id = 2;\n",
       "                var nbb_unformatted_code = \"import re\\nimport warnings\\nfrom pathlib import Path\\n\\nimport numpy as np\\nimport pandas as pd\\nimport matplotlib.pyplot as plt\\nfrom sklearn import metrics, model_selection\\n\\nimport tensorflow as tf\\nfrom tensorflow.keras import Sequential\\nfrom tensorflow.keras.layers import (\\n    Dense,\\n    Embedding,\\n    LSTM,\\n    GlobalMaxPooling1D,\\n    Conv1D,\\n    Dropout,\\n    Bidirectional,\\n)\\nfrom tensorflow.keras.preprocessing.sequence import pad_sequences\\nfrom tensorflow.keras.preprocessing.text import Tokenizer\\nfrom tensorflow.keras.callbacks import EarlyStopping, ReduceLROnPlateau\\nfrom tensorflow.keras.utils import plot_model, to_categorical\\nfrom tensorflow.keras.optimizers import Adam\";\n",
       "                var nbb_formatted_code = \"import re\\nimport warnings\\nfrom pathlib import Path\\n\\nimport numpy as np\\nimport pandas as pd\\nimport matplotlib.pyplot as plt\\nfrom sklearn import metrics, model_selection\\n\\nimport tensorflow as tf\\nfrom tensorflow.keras import Sequential\\nfrom tensorflow.keras.layers import (\\n    Dense,\\n    Embedding,\\n    LSTM,\\n    GlobalMaxPooling1D,\\n    Conv1D,\\n    Dropout,\\n    Bidirectional,\\n)\\nfrom tensorflow.keras.preprocessing.sequence import pad_sequences\\nfrom tensorflow.keras.preprocessing.text import Tokenizer\\nfrom tensorflow.keras.callbacks import EarlyStopping, ReduceLROnPlateau\\nfrom tensorflow.keras.utils import plot_model, to_categorical\\nfrom tensorflow.keras.optimizers import Adam\";\n",
       "                var nbb_cells = Jupyter.notebook.get_cells();\n",
       "                for (var i = 0; i < nbb_cells.length; ++i) {\n",
       "                    if (nbb_cells[i].input_prompt_number == nbb_cell_id) {\n",
       "                        if (nbb_cells[i].get_text() == nbb_unformatted_code) {\n",
       "                             nbb_cells[i].set_text(nbb_formatted_code);\n",
       "                        }\n",
       "                        break;\n",
       "                    }\n",
       "                }\n",
       "            }, 500);\n",
       "            "
      ],
      "text/plain": [
       "<IPython.core.display.Javascript object>"
      ]
     },
     "metadata": {},
     "output_type": "display_data"
    }
   ],
   "source": [
    "import re\n",
    "import warnings\n",
    "from pathlib import Path\n",
    "\n",
    "import numpy as np\n",
    "import pandas as pd\n",
    "import matplotlib.pyplot as plt\n",
    "from sklearn import metrics, model_selection\n",
    "\n",
    "import tensorflow as tf\n",
    "from tensorflow.keras import Sequential\n",
    "from tensorflow.keras.layers import (\n",
    "    Dense,\n",
    "    Embedding,\n",
    "    LSTM,\n",
    "    GlobalMaxPooling1D,\n",
    "    Conv1D,\n",
    "    Dropout,\n",
    "    Bidirectional,\n",
    ")\n",
    "from tensorflow.keras.preprocessing.sequence import pad_sequences\n",
    "from tensorflow.keras.preprocessing.text import Tokenizer\n",
    "from tensorflow.keras.callbacks import EarlyStopping, ReduceLROnPlateau\n",
    "from tensorflow.keras.utils import plot_model, to_categorical\n",
    "from tensorflow.keras.optimizers import Adam"
   ]
  },
  {
   "cell_type": "code",
   "execution_count": 3,
   "metadata": {},
   "outputs": [
    {
     "name": "stdout",
     "output_type": "stream",
     "text": [
      "Tensorflow version = 2.3.1\n"
     ]
    },
    {
     "data": {
      "application/javascript": [
       "\n",
       "            setTimeout(function() {\n",
       "                var nbb_cell_id = 3;\n",
       "                var nbb_unformatted_code = \"warnings.filterwarnings(\\\"ignore\\\")\\nprint(\\\"Tensorflow version =\\\", tf.__version__)\";\n",
       "                var nbb_formatted_code = \"warnings.filterwarnings(\\\"ignore\\\")\\nprint(\\\"Tensorflow version =\\\", tf.__version__)\";\n",
       "                var nbb_cells = Jupyter.notebook.get_cells();\n",
       "                for (var i = 0; i < nbb_cells.length; ++i) {\n",
       "                    if (nbb_cells[i].input_prompt_number == nbb_cell_id) {\n",
       "                        if (nbb_cells[i].get_text() == nbb_unformatted_code) {\n",
       "                             nbb_cells[i].set_text(nbb_formatted_code);\n",
       "                        }\n",
       "                        break;\n",
       "                    }\n",
       "                }\n",
       "            }, 500);\n",
       "            "
      ],
      "text/plain": [
       "<IPython.core.display.Javascript object>"
      ]
     },
     "metadata": {},
     "output_type": "display_data"
    }
   ],
   "source": [
    "warnings.filterwarnings(\"ignore\")\n",
    "print(\"Tensorflow version =\", tf.__version__)"
   ]
  },
  {
   "cell_type": "markdown",
   "metadata": {},
   "source": [
    "# Bidirectional LSTM"
   ]
  },
  {
   "cell_type": "markdown",
   "metadata": {},
   "source": [
    "## Setup"
   ]
  },
  {
   "cell_type": "code",
   "execution_count": 4,
   "metadata": {},
   "outputs": [
    {
     "name": "stdout",
     "output_type": "stream",
     "text": [
      "1 Physical GPUs, 1 Logical GPUs\n"
     ]
    },
    {
     "data": {
      "application/javascript": [
       "\n",
       "            setTimeout(function() {\n",
       "                var nbb_cell_id = 4;\n",
       "                var nbb_unformatted_code = \"gpus = tf.config.experimental.list_physical_devices(\\\"GPU\\\")\\nif gpus:\\n    try:\\n        logical_gpus = tf.config.experimental.list_logical_devices(\\\"GPU\\\")\\n        print(len(gpus), \\\"Physical GPUs,\\\", len(logical_gpus), \\\"Logical GPUs\\\")\\n    except RuntimeError as e:\\n        # Visible devices must be set before GPUs have been initialized\\n        print(e)\\nelse:\\n    print(\\\"No GPUs detected\\\")\";\n",
       "                var nbb_formatted_code = \"gpus = tf.config.experimental.list_physical_devices(\\\"GPU\\\")\\nif gpus:\\n    try:\\n        logical_gpus = tf.config.experimental.list_logical_devices(\\\"GPU\\\")\\n        print(len(gpus), \\\"Physical GPUs,\\\", len(logical_gpus), \\\"Logical GPUs\\\")\\n    except RuntimeError as e:\\n        # Visible devices must be set before GPUs have been initialized\\n        print(e)\\nelse:\\n    print(\\\"No GPUs detected\\\")\";\n",
       "                var nbb_cells = Jupyter.notebook.get_cells();\n",
       "                for (var i = 0; i < nbb_cells.length; ++i) {\n",
       "                    if (nbb_cells[i].input_prompt_number == nbb_cell_id) {\n",
       "                        if (nbb_cells[i].get_text() == nbb_unformatted_code) {\n",
       "                             nbb_cells[i].set_text(nbb_formatted_code);\n",
       "                        }\n",
       "                        break;\n",
       "                    }\n",
       "                }\n",
       "            }, 500);\n",
       "            "
      ],
      "text/plain": [
       "<IPython.core.display.Javascript object>"
      ]
     },
     "metadata": {},
     "output_type": "display_data"
    }
   ],
   "source": [
    "gpus = tf.config.experimental.list_physical_devices(\"GPU\")\n",
    "if gpus:\n",
    "    try:\n",
    "        logical_gpus = tf.config.experimental.list_logical_devices(\"GPU\")\n",
    "        print(len(gpus), \"Physical GPUs,\", len(logical_gpus), \"Logical GPUs\")\n",
    "    except RuntimeError as e:\n",
    "        # Visible devices must be set before GPUs have been initialized\n",
    "        print(e)\n",
    "else:\n",
    "    print(\"No GPUs detected\")"
   ]
  },
  {
   "cell_type": "code",
   "execution_count": 5,
   "metadata": {},
   "outputs": [
    {
     "data": {
      "application/javascript": [
       "\n",
       "            setTimeout(function() {\n",
       "                var nbb_cell_id = 5;\n",
       "                var nbb_unformatted_code = \"# if len(gpus)==1: strategy = tf.distribute.OneDeviceStrategy(device=\\\"/gpu:0\\\")\\n# else: strategy = tf.distribute.MirroredStrategy()\";\n",
       "                var nbb_formatted_code = \"# if len(gpus)==1: strategy = tf.distribute.OneDeviceStrategy(device=\\\"/gpu:0\\\")\\n# else: strategy = tf.distribute.MirroredStrategy()\";\n",
       "                var nbb_cells = Jupyter.notebook.get_cells();\n",
       "                for (var i = 0; i < nbb_cells.length; ++i) {\n",
       "                    if (nbb_cells[i].input_prompt_number == nbb_cell_id) {\n",
       "                        if (nbb_cells[i].get_text() == nbb_unformatted_code) {\n",
       "                             nbb_cells[i].set_text(nbb_formatted_code);\n",
       "                        }\n",
       "                        break;\n",
       "                    }\n",
       "                }\n",
       "            }, 500);\n",
       "            "
      ],
      "text/plain": [
       "<IPython.core.display.Javascript object>"
      ]
     },
     "metadata": {},
     "output_type": "display_data"
    }
   ],
   "source": [
    "# if len(gpus)==1: strategy = tf.distribute.OneDeviceStrategy(device=\"/gpu:0\")\n",
    "# else: strategy = tf.distribute.MirroredStrategy()"
   ]
  },
  {
   "cell_type": "code",
   "execution_count": 6,
   "metadata": {},
   "outputs": [
    {
     "name": "stdout",
     "output_type": "stream",
     "text": [
      "Mixed precision enabled\n"
     ]
    },
    {
     "data": {
      "application/javascript": [
       "\n",
       "            setTimeout(function() {\n",
       "                var nbb_cell_id = 6;\n",
       "                var nbb_unformatted_code = \"tf.config.optimizer.set_experimental_options({\\\"auto_mixed_precision\\\": True})\\nprint(\\\"Mixed precision enabled\\\")\";\n",
       "                var nbb_formatted_code = \"tf.config.optimizer.set_experimental_options({\\\"auto_mixed_precision\\\": True})\\nprint(\\\"Mixed precision enabled\\\")\";\n",
       "                var nbb_cells = Jupyter.notebook.get_cells();\n",
       "                for (var i = 0; i < nbb_cells.length; ++i) {\n",
       "                    if (nbb_cells[i].input_prompt_number == nbb_cell_id) {\n",
       "                        if (nbb_cells[i].get_text() == nbb_unformatted_code) {\n",
       "                             nbb_cells[i].set_text(nbb_formatted_code);\n",
       "                        }\n",
       "                        break;\n",
       "                    }\n",
       "                }\n",
       "            }, 500);\n",
       "            "
      ],
      "text/plain": [
       "<IPython.core.display.Javascript object>"
      ]
     },
     "metadata": {},
     "output_type": "display_data"
    }
   ],
   "source": [
    "tf.config.optimizer.set_experimental_options({\"auto_mixed_precision\": True})\n",
    "print(\"Mixed precision enabled\")"
   ]
  },
  {
   "cell_type": "code",
   "execution_count": 7,
   "metadata": {},
   "outputs": [
    {
     "data": {
      "application/javascript": [
       "\n",
       "            setTimeout(function() {\n",
       "                var nbb_cell_id = 7;\n",
       "                var nbb_unformatted_code = \"args = dict(\\n    data_dir=Path(\\\"../input\\\"),\\n    train_csv=Path(\\\"../input/train.csv\\\"),\\n    test_csv=Path(\\\"../input/test_x.csv\\\"),\\n    sample_csv=Path(\\\"../input/sample_submission.csv\\\"),\\n    target_col=\\\"author\\\",\\n    feature_dir=Path(\\\"../build/feature\\\"),\\n    val_dir=Path(\\\"../build/val\\\"),\\n    test_dir=Path(\\\"../build/test\\\"),\\n    subm_dir=Path(\\\"../build/subm\\\"),\\n    n_folds=5,\\n    n_classes=5,\\n    seed=42,\\n)\";\n",
       "                var nbb_formatted_code = \"args = dict(\\n    data_dir=Path(\\\"../input\\\"),\\n    train_csv=Path(\\\"../input/train.csv\\\"),\\n    test_csv=Path(\\\"../input/test_x.csv\\\"),\\n    sample_csv=Path(\\\"../input/sample_submission.csv\\\"),\\n    target_col=\\\"author\\\",\\n    feature_dir=Path(\\\"../build/feature\\\"),\\n    val_dir=Path(\\\"../build/val\\\"),\\n    test_dir=Path(\\\"../build/test\\\"),\\n    subm_dir=Path(\\\"../build/subm\\\"),\\n    n_folds=5,\\n    n_classes=5,\\n    seed=42,\\n)\";\n",
       "                var nbb_cells = Jupyter.notebook.get_cells();\n",
       "                for (var i = 0; i < nbb_cells.length; ++i) {\n",
       "                    if (nbb_cells[i].input_prompt_number == nbb_cell_id) {\n",
       "                        if (nbb_cells[i].get_text() == nbb_unformatted_code) {\n",
       "                             nbb_cells[i].set_text(nbb_formatted_code);\n",
       "                        }\n",
       "                        break;\n",
       "                    }\n",
       "                }\n",
       "            }, 500);\n",
       "            "
      ],
      "text/plain": [
       "<IPython.core.display.Javascript object>"
      ]
     },
     "metadata": {},
     "output_type": "display_data"
    }
   ],
   "source": [
    "args = dict(\n",
    "    data_dir=Path(\"../input\"),\n",
    "    train_csv=Path(\"../input/train.csv\"),\n",
    "    test_csv=Path(\"../input/test_x.csv\"),\n",
    "    sample_csv=Path(\"../input/sample_submission.csv\"),\n",
    "    target_col=\"author\",\n",
    "    feature_dir=Path(\"../build/feature\"),\n",
    "    val_dir=Path(\"../build/val\"),\n",
    "    test_dir=Path(\"../build/test\"),\n",
    "    subm_dir=Path(\"../build/subm\"),\n",
    "    n_folds=5,\n",
    "    n_classes=5,\n",
    "    seed=42,\n",
    ")"
   ]
  },
  {
   "cell_type": "code",
   "execution_count": 8,
   "metadata": {},
   "outputs": [
    {
     "data": {
      "application/javascript": [
       "\n",
       "            setTimeout(function() {\n",
       "                var nbb_cell_id = 8;\n",
       "                var nbb_unformatted_code = \"algo_name = \\\"lstm\\\"\\nfeature_name = \\\"emb\\\"\\nmodel_name = f\\\"{algo_name}_{feature_name}\\\"\\n\\nfeature_file = args[\\\"feature_dir\\\"] / f\\\"{feature_name}.csv\\\"\\np_val_file = args[\\\"val_dir\\\"] / f\\\"{model_name}.csv\\\"\\np_test_file = args[\\\"test_dir\\\"] / f\\\"{model_name}.csv\\\"\\nsubm_file = args[\\\"subm_dir\\\"] / f\\\"{model_name}.csv\\\"\";\n",
       "                var nbb_formatted_code = \"algo_name = \\\"lstm\\\"\\nfeature_name = \\\"emb\\\"\\nmodel_name = f\\\"{algo_name}_{feature_name}\\\"\\n\\nfeature_file = args[\\\"feature_dir\\\"] / f\\\"{feature_name}.csv\\\"\\np_val_file = args[\\\"val_dir\\\"] / f\\\"{model_name}.csv\\\"\\np_test_file = args[\\\"test_dir\\\"] / f\\\"{model_name}.csv\\\"\\nsubm_file = args[\\\"subm_dir\\\"] / f\\\"{model_name}.csv\\\"\";\n",
       "                var nbb_cells = Jupyter.notebook.get_cells();\n",
       "                for (var i = 0; i < nbb_cells.length; ++i) {\n",
       "                    if (nbb_cells[i].input_prompt_number == nbb_cell_id) {\n",
       "                        if (nbb_cells[i].get_text() == nbb_unformatted_code) {\n",
       "                             nbb_cells[i].set_text(nbb_formatted_code);\n",
       "                        }\n",
       "                        break;\n",
       "                    }\n",
       "                }\n",
       "            }, 500);\n",
       "            "
      ],
      "text/plain": [
       "<IPython.core.display.Javascript object>"
      ]
     },
     "metadata": {},
     "output_type": "display_data"
    }
   ],
   "source": [
    "algo_name = \"lstm\"\n",
    "feature_name = \"emb\"\n",
    "model_name = f\"{algo_name}_{feature_name}\"\n",
    "\n",
    "feature_file = args[\"feature_dir\"] / f\"{feature_name}.csv\"\n",
    "p_val_file = args[\"val_dir\"] / f\"{model_name}.csv\"\n",
    "p_test_file = args[\"test_dir\"] / f\"{model_name}.csv\"\n",
    "subm_file = args[\"subm_dir\"] / f\"{model_name}.csv\""
   ]
  },
  {
   "cell_type": "markdown",
   "metadata": {},
   "source": [
    "## Data"
   ]
  },
  {
   "cell_type": "code",
   "execution_count": 9,
   "metadata": {},
   "outputs": [
    {
     "data": {
      "text/html": [
       "<div>\n",
       "<style scoped>\n",
       "    .dataframe tbody tr th:only-of-type {\n",
       "        vertical-align: middle;\n",
       "    }\n",
       "\n",
       "    .dataframe tbody tr th {\n",
       "        vertical-align: top;\n",
       "    }\n",
       "\n",
       "    .dataframe thead th {\n",
       "        text-align: right;\n",
       "    }\n",
       "</style>\n",
       "<table border=\"1\" class=\"dataframe\">\n",
       "  <thead>\n",
       "    <tr style=\"text-align: right;\">\n",
       "      <th></th>\n",
       "      <th>text</th>\n",
       "      <th>author</th>\n",
       "    </tr>\n",
       "    <tr>\n",
       "      <th>index</th>\n",
       "      <th></th>\n",
       "      <th></th>\n",
       "    </tr>\n",
       "  </thead>\n",
       "  <tbody>\n",
       "    <tr>\n",
       "      <th>0</th>\n",
       "      <td>He was almost choking. There was so much, so m...</td>\n",
       "      <td>3</td>\n",
       "    </tr>\n",
       "    <tr>\n",
       "      <th>1</th>\n",
       "      <td>“Your sister asked for it, I suppose?”</td>\n",
       "      <td>2</td>\n",
       "    </tr>\n",
       "    <tr>\n",
       "      <th>2</th>\n",
       "      <td>She was engaged one day as she walked, in per...</td>\n",
       "      <td>1</td>\n",
       "    </tr>\n",
       "    <tr>\n",
       "      <th>3</th>\n",
       "      <td>The captain was in the porch, keeping himself ...</td>\n",
       "      <td>4</td>\n",
       "    </tr>\n",
       "    <tr>\n",
       "      <th>4</th>\n",
       "      <td>“Have mercy, gentlemen!” odin flung up his han...</td>\n",
       "      <td>3</td>\n",
       "    </tr>\n",
       "  </tbody>\n",
       "</table>\n",
       "</div>"
      ],
      "text/plain": [
       "                                                    text  author\n",
       "index                                                           \n",
       "0      He was almost choking. There was so much, so m...       3\n",
       "1                 “Your sister asked for it, I suppose?”       2\n",
       "2       She was engaged one day as she walked, in per...       1\n",
       "3      The captain was in the porch, keeping himself ...       4\n",
       "4      “Have mercy, gentlemen!” odin flung up his han...       3"
      ]
     },
     "execution_count": 9,
     "metadata": {},
     "output_type": "execute_result"
    },
    {
     "data": {
      "application/javascript": [
       "\n",
       "            setTimeout(function() {\n",
       "                var nbb_cell_id = 9;\n",
       "                var nbb_unformatted_code = \"train = pd.read_csv(args[\\\"train_csv\\\"], index_col=0)\\ntrain.head()\";\n",
       "                var nbb_formatted_code = \"train = pd.read_csv(args[\\\"train_csv\\\"], index_col=0)\\ntrain.head()\";\n",
       "                var nbb_cells = Jupyter.notebook.get_cells();\n",
       "                for (var i = 0; i < nbb_cells.length; ++i) {\n",
       "                    if (nbb_cells[i].input_prompt_number == nbb_cell_id) {\n",
       "                        if (nbb_cells[i].get_text() == nbb_unformatted_code) {\n",
       "                             nbb_cells[i].set_text(nbb_formatted_code);\n",
       "                        }\n",
       "                        break;\n",
       "                    }\n",
       "                }\n",
       "            }, 500);\n",
       "            "
      ],
      "text/plain": [
       "<IPython.core.display.Javascript object>"
      ]
     },
     "metadata": {},
     "output_type": "display_data"
    }
   ],
   "source": [
    "train = pd.read_csv(args[\"train_csv\"], index_col=0)\n",
    "train.head()"
   ]
  },
  {
   "cell_type": "code",
   "execution_count": 10,
   "metadata": {},
   "outputs": [
    {
     "data": {
      "text/html": [
       "<div>\n",
       "<style scoped>\n",
       "    .dataframe tbody tr th:only-of-type {\n",
       "        vertical-align: middle;\n",
       "    }\n",
       "\n",
       "    .dataframe tbody tr th {\n",
       "        vertical-align: top;\n",
       "    }\n",
       "\n",
       "    .dataframe thead th {\n",
       "        text-align: right;\n",
       "    }\n",
       "</style>\n",
       "<table border=\"1\" class=\"dataframe\">\n",
       "  <thead>\n",
       "    <tr style=\"text-align: right;\">\n",
       "      <th></th>\n",
       "      <th>text</th>\n",
       "    </tr>\n",
       "    <tr>\n",
       "      <th>index</th>\n",
       "      <th></th>\n",
       "    </tr>\n",
       "  </thead>\n",
       "  <tbody>\n",
       "    <tr>\n",
       "      <th>0</th>\n",
       "      <td>“Not at all. I think she is one of the most ch...</td>\n",
       "    </tr>\n",
       "    <tr>\n",
       "      <th>1</th>\n",
       "      <td>\"No,\" replied he, with sudden consciousness, \"...</td>\n",
       "    </tr>\n",
       "    <tr>\n",
       "      <th>2</th>\n",
       "      <td>As the lady had stated her intention of scream...</td>\n",
       "    </tr>\n",
       "    <tr>\n",
       "      <th>3</th>\n",
       "      <td>“And then suddenly in the silence I heard a so...</td>\n",
       "    </tr>\n",
       "    <tr>\n",
       "      <th>4</th>\n",
       "      <td>His conviction remained unchanged. So far as I...</td>\n",
       "    </tr>\n",
       "  </tbody>\n",
       "</table>\n",
       "</div>"
      ],
      "text/plain": [
       "                                                    text\n",
       "index                                                   \n",
       "0      “Not at all. I think she is one of the most ch...\n",
       "1      \"No,\" replied he, with sudden consciousness, \"...\n",
       "2      As the lady had stated her intention of scream...\n",
       "3      “And then suddenly in the silence I heard a so...\n",
       "4      His conviction remained unchanged. So far as I..."
      ]
     },
     "execution_count": 10,
     "metadata": {},
     "output_type": "execute_result"
    },
    {
     "data": {
      "application/javascript": [
       "\n",
       "            setTimeout(function() {\n",
       "                var nbb_cell_id = 10;\n",
       "                var nbb_unformatted_code = \"test = pd.read_csv(args[\\\"test_csv\\\"], index_col=0)\\ntest.head()\";\n",
       "                var nbb_formatted_code = \"test = pd.read_csv(args[\\\"test_csv\\\"], index_col=0)\\ntest.head()\";\n",
       "                var nbb_cells = Jupyter.notebook.get_cells();\n",
       "                for (var i = 0; i < nbb_cells.length; ++i) {\n",
       "                    if (nbb_cells[i].input_prompt_number == nbb_cell_id) {\n",
       "                        if (nbb_cells[i].get_text() == nbb_unformatted_code) {\n",
       "                             nbb_cells[i].set_text(nbb_formatted_code);\n",
       "                        }\n",
       "                        break;\n",
       "                    }\n",
       "                }\n",
       "            }, 500);\n",
       "            "
      ],
      "text/plain": [
       "<IPython.core.display.Javascript object>"
      ]
     },
     "metadata": {},
     "output_type": "display_data"
    }
   ],
   "source": [
    "test = pd.read_csv(args[\"test_csv\"], index_col=0)\n",
    "test.head()"
   ]
  },
  {
   "cell_type": "markdown",
   "metadata": {},
   "source": [
    "## Preprocessing"
   ]
  },
  {
   "cell_type": "code",
   "execution_count": 11,
   "metadata": {},
   "outputs": [
    {
     "data": {
      "application/javascript": [
       "\n",
       "            setTimeout(function() {\n",
       "                var nbb_cell_id = 11;\n",
       "                var nbb_unformatted_code = \"def alpha_num(text):\\n    return re.sub(r\\\"[^A-Za-z0-9 ]\\\", \\\"\\\", text)\\n\\n\\ndef remove_stopwords(text):\\n    final_text = []\\n    for i in text.split():\\n        if i.strip().lower() not in STOPWORDS:\\n            final_text.append(i.strip())\\n    return \\\" \\\".join(final_text)\\n\\n\\nSTOPWORDS = [\\n    \\\"a\\\",\\n    \\\"about\\\",\\n    \\\"above\\\",\\n    \\\"after\\\",\\n    \\\"again\\\",\\n    \\\"against\\\",\\n    \\\"all\\\",\\n    \\\"am\\\",\\n    \\\"an\\\",\\n    \\\"and\\\",\\n    \\\"any\\\",\\n    \\\"are\\\",\\n    \\\"as\\\",\\n    \\\"at\\\",\\n    \\\"be\\\",\\n    \\\"because\\\",\\n    \\\"been\\\",\\n    \\\"before\\\",\\n    \\\"being\\\",\\n    \\\"below\\\",\\n    \\\"between\\\",\\n    \\\"both\\\",\\n    \\\"but\\\",\\n    \\\"by\\\",\\n    \\\"could\\\",\\n    \\\"did\\\",\\n    \\\"do\\\",\\n    \\\"does\\\",\\n    \\\"doing\\\",\\n    \\\"down\\\",\\n    \\\"during\\\",\\n    \\\"each\\\",\\n    \\\"few\\\",\\n    \\\"for\\\",\\n    \\\"from\\\",\\n    \\\"further\\\",\\n    \\\"had\\\",\\n    \\\"has\\\",\\n    \\\"have\\\",\\n    \\\"having\\\",\\n    \\\"he\\\",\\n    \\\"he'd\\\",\\n    \\\"he'll\\\",\\n    \\\"he's\\\",\\n    \\\"her\\\",\\n    \\\"here\\\",\\n    \\\"here's\\\",\\n    \\\"hers\\\",\\n    \\\"herself\\\",\\n    \\\"him\\\",\\n    \\\"himself\\\",\\n    \\\"his\\\",\\n    \\\"how\\\",\\n    \\\"how's\\\",\\n    \\\"i\\\",\\n    \\\"i'd\\\",\\n    \\\"i'll\\\",\\n    \\\"i'm\\\",\\n    \\\"i've\\\",\\n    \\\"if\\\",\\n    \\\"in\\\",\\n    \\\"into\\\",\\n    \\\"is\\\",\\n    \\\"it\\\",\\n    \\\"it's\\\",\\n    \\\"its\\\",\\n    \\\"itself\\\",\\n    \\\"let's\\\",\\n    \\\"me\\\",\\n    \\\"more\\\",\\n    \\\"most\\\",\\n    \\\"my\\\",\\n    \\\"myself\\\",\\n    \\\"nor\\\",\\n    \\\"of\\\",\\n    \\\"on\\\",\\n    \\\"once\\\",\\n    \\\"only\\\",\\n    \\\"or\\\",\\n    \\\"other\\\",\\n    \\\"ought\\\",\\n    \\\"our\\\",\\n    \\\"ours\\\",\\n    \\\"ourselves\\\",\\n    \\\"out\\\",\\n    \\\"over\\\",\\n    \\\"own\\\",\\n    \\\"same\\\",\\n    \\\"she\\\",\\n    \\\"she'd\\\",\\n    \\\"she'll\\\",\\n    \\\"she's\\\",\\n    \\\"should\\\",\\n    \\\"so\\\",\\n    \\\"some\\\",\\n    \\\"such\\\",\\n    \\\"than\\\",\\n    \\\"that\\\",\\n    \\\"that's\\\",\\n    \\\"the\\\",\\n    \\\"their\\\",\\n    \\\"theirs\\\",\\n    \\\"them\\\",\\n    \\\"themselves\\\",\\n    \\\"then\\\",\\n    \\\"there\\\",\\n    \\\"there's\\\",\\n    \\\"these\\\",\\n    \\\"they\\\",\\n    \\\"they'd\\\",\\n    \\\"they'll\\\",\\n    \\\"they're\\\",\\n    \\\"they've\\\",\\n    \\\"this\\\",\\n    \\\"those\\\",\\n    \\\"through\\\",\\n    \\\"to\\\",\\n    \\\"too\\\",\\n    \\\"under\\\",\\n    \\\"until\\\",\\n    \\\"up\\\",\\n    \\\"very\\\",\\n    \\\"was\\\",\\n    \\\"we\\\",\\n    \\\"we'd\\\",\\n    \\\"we'll\\\",\\n    \\\"we're\\\",\\n    \\\"we've\\\",\\n    \\\"were\\\",\\n    \\\"what\\\",\\n    \\\"what's\\\",\\n    \\\"when\\\",\\n    \\\"when's\\\",\\n    \\\"where\\\",\\n    \\\"where's\\\",\\n    \\\"which\\\",\\n    \\\"while\\\",\\n    \\\"who\\\",\\n    \\\"who's\\\",\\n    \\\"whom\\\",\\n    \\\"why\\\",\\n    \\\"why's\\\",\\n    \\\"with\\\",\\n    \\\"would\\\",\\n    \\\"you\\\",\\n    \\\"you'd\\\",\\n    \\\"you'll\\\",\\n    \\\"you're\\\",\\n    \\\"you've\\\",\\n    \\\"your\\\",\\n    \\\"yours\\\",\\n    \\\"yourself\\\",\\n    \\\"yourselves\\\",\\n]\";\n",
       "                var nbb_formatted_code = \"def alpha_num(text):\\n    return re.sub(r\\\"[^A-Za-z0-9 ]\\\", \\\"\\\", text)\\n\\n\\ndef remove_stopwords(text):\\n    final_text = []\\n    for i in text.split():\\n        if i.strip().lower() not in STOPWORDS:\\n            final_text.append(i.strip())\\n    return \\\" \\\".join(final_text)\\n\\n\\nSTOPWORDS = [\\n    \\\"a\\\",\\n    \\\"about\\\",\\n    \\\"above\\\",\\n    \\\"after\\\",\\n    \\\"again\\\",\\n    \\\"against\\\",\\n    \\\"all\\\",\\n    \\\"am\\\",\\n    \\\"an\\\",\\n    \\\"and\\\",\\n    \\\"any\\\",\\n    \\\"are\\\",\\n    \\\"as\\\",\\n    \\\"at\\\",\\n    \\\"be\\\",\\n    \\\"because\\\",\\n    \\\"been\\\",\\n    \\\"before\\\",\\n    \\\"being\\\",\\n    \\\"below\\\",\\n    \\\"between\\\",\\n    \\\"both\\\",\\n    \\\"but\\\",\\n    \\\"by\\\",\\n    \\\"could\\\",\\n    \\\"did\\\",\\n    \\\"do\\\",\\n    \\\"does\\\",\\n    \\\"doing\\\",\\n    \\\"down\\\",\\n    \\\"during\\\",\\n    \\\"each\\\",\\n    \\\"few\\\",\\n    \\\"for\\\",\\n    \\\"from\\\",\\n    \\\"further\\\",\\n    \\\"had\\\",\\n    \\\"has\\\",\\n    \\\"have\\\",\\n    \\\"having\\\",\\n    \\\"he\\\",\\n    \\\"he'd\\\",\\n    \\\"he'll\\\",\\n    \\\"he's\\\",\\n    \\\"her\\\",\\n    \\\"here\\\",\\n    \\\"here's\\\",\\n    \\\"hers\\\",\\n    \\\"herself\\\",\\n    \\\"him\\\",\\n    \\\"himself\\\",\\n    \\\"his\\\",\\n    \\\"how\\\",\\n    \\\"how's\\\",\\n    \\\"i\\\",\\n    \\\"i'd\\\",\\n    \\\"i'll\\\",\\n    \\\"i'm\\\",\\n    \\\"i've\\\",\\n    \\\"if\\\",\\n    \\\"in\\\",\\n    \\\"into\\\",\\n    \\\"is\\\",\\n    \\\"it\\\",\\n    \\\"it's\\\",\\n    \\\"its\\\",\\n    \\\"itself\\\",\\n    \\\"let's\\\",\\n    \\\"me\\\",\\n    \\\"more\\\",\\n    \\\"most\\\",\\n    \\\"my\\\",\\n    \\\"myself\\\",\\n    \\\"nor\\\",\\n    \\\"of\\\",\\n    \\\"on\\\",\\n    \\\"once\\\",\\n    \\\"only\\\",\\n    \\\"or\\\",\\n    \\\"other\\\",\\n    \\\"ought\\\",\\n    \\\"our\\\",\\n    \\\"ours\\\",\\n    \\\"ourselves\\\",\\n    \\\"out\\\",\\n    \\\"over\\\",\\n    \\\"own\\\",\\n    \\\"same\\\",\\n    \\\"she\\\",\\n    \\\"she'd\\\",\\n    \\\"she'll\\\",\\n    \\\"she's\\\",\\n    \\\"should\\\",\\n    \\\"so\\\",\\n    \\\"some\\\",\\n    \\\"such\\\",\\n    \\\"than\\\",\\n    \\\"that\\\",\\n    \\\"that's\\\",\\n    \\\"the\\\",\\n    \\\"their\\\",\\n    \\\"theirs\\\",\\n    \\\"them\\\",\\n    \\\"themselves\\\",\\n    \\\"then\\\",\\n    \\\"there\\\",\\n    \\\"there's\\\",\\n    \\\"these\\\",\\n    \\\"they\\\",\\n    \\\"they'd\\\",\\n    \\\"they'll\\\",\\n    \\\"they're\\\",\\n    \\\"they've\\\",\\n    \\\"this\\\",\\n    \\\"those\\\",\\n    \\\"through\\\",\\n    \\\"to\\\",\\n    \\\"too\\\",\\n    \\\"under\\\",\\n    \\\"until\\\",\\n    \\\"up\\\",\\n    \\\"very\\\",\\n    \\\"was\\\",\\n    \\\"we\\\",\\n    \\\"we'd\\\",\\n    \\\"we'll\\\",\\n    \\\"we're\\\",\\n    \\\"we've\\\",\\n    \\\"were\\\",\\n    \\\"what\\\",\\n    \\\"what's\\\",\\n    \\\"when\\\",\\n    \\\"when's\\\",\\n    \\\"where\\\",\\n    \\\"where's\\\",\\n    \\\"which\\\",\\n    \\\"while\\\",\\n    \\\"who\\\",\\n    \\\"who's\\\",\\n    \\\"whom\\\",\\n    \\\"why\\\",\\n    \\\"why's\\\",\\n    \\\"with\\\",\\n    \\\"would\\\",\\n    \\\"you\\\",\\n    \\\"you'd\\\",\\n    \\\"you'll\\\",\\n    \\\"you're\\\",\\n    \\\"you've\\\",\\n    \\\"your\\\",\\n    \\\"yours\\\",\\n    \\\"yourself\\\",\\n    \\\"yourselves\\\",\\n]\";\n",
       "                var nbb_cells = Jupyter.notebook.get_cells();\n",
       "                for (var i = 0; i < nbb_cells.length; ++i) {\n",
       "                    if (nbb_cells[i].input_prompt_number == nbb_cell_id) {\n",
       "                        if (nbb_cells[i].get_text() == nbb_unformatted_code) {\n",
       "                             nbb_cells[i].set_text(nbb_formatted_code);\n",
       "                        }\n",
       "                        break;\n",
       "                    }\n",
       "                }\n",
       "            }, 500);\n",
       "            "
      ],
      "text/plain": [
       "<IPython.core.display.Javascript object>"
      ]
     },
     "metadata": {},
     "output_type": "display_data"
    }
   ],
   "source": [
    "def alpha_num(text):\n",
    "    return re.sub(r\"[^A-Za-z0-9 ]\", \"\", text)\n",
    "\n",
    "\n",
    "def remove_stopwords(text):\n",
    "    final_text = []\n",
    "    for i in text.split():\n",
    "        if i.strip().lower() not in STOPWORDS:\n",
    "            final_text.append(i.strip())\n",
    "    return \" \".join(final_text)\n",
    "\n",
    "\n",
    "STOPWORDS = [\n",
    "    \"a\",\n",
    "    \"about\",\n",
    "    \"above\",\n",
    "    \"after\",\n",
    "    \"again\",\n",
    "    \"against\",\n",
    "    \"all\",\n",
    "    \"am\",\n",
    "    \"an\",\n",
    "    \"and\",\n",
    "    \"any\",\n",
    "    \"are\",\n",
    "    \"as\",\n",
    "    \"at\",\n",
    "    \"be\",\n",
    "    \"because\",\n",
    "    \"been\",\n",
    "    \"before\",\n",
    "    \"being\",\n",
    "    \"below\",\n",
    "    \"between\",\n",
    "    \"both\",\n",
    "    \"but\",\n",
    "    \"by\",\n",
    "    \"could\",\n",
    "    \"did\",\n",
    "    \"do\",\n",
    "    \"does\",\n",
    "    \"doing\",\n",
    "    \"down\",\n",
    "    \"during\",\n",
    "    \"each\",\n",
    "    \"few\",\n",
    "    \"for\",\n",
    "    \"from\",\n",
    "    \"further\",\n",
    "    \"had\",\n",
    "    \"has\",\n",
    "    \"have\",\n",
    "    \"having\",\n",
    "    \"he\",\n",
    "    \"he'd\",\n",
    "    \"he'll\",\n",
    "    \"he's\",\n",
    "    \"her\",\n",
    "    \"here\",\n",
    "    \"here's\",\n",
    "    \"hers\",\n",
    "    \"herself\",\n",
    "    \"him\",\n",
    "    \"himself\",\n",
    "    \"his\",\n",
    "    \"how\",\n",
    "    \"how's\",\n",
    "    \"i\",\n",
    "    \"i'd\",\n",
    "    \"i'll\",\n",
    "    \"i'm\",\n",
    "    \"i've\",\n",
    "    \"if\",\n",
    "    \"in\",\n",
    "    \"into\",\n",
    "    \"is\",\n",
    "    \"it\",\n",
    "    \"it's\",\n",
    "    \"its\",\n",
    "    \"itself\",\n",
    "    \"let's\",\n",
    "    \"me\",\n",
    "    \"more\",\n",
    "    \"most\",\n",
    "    \"my\",\n",
    "    \"myself\",\n",
    "    \"nor\",\n",
    "    \"of\",\n",
    "    \"on\",\n",
    "    \"once\",\n",
    "    \"only\",\n",
    "    \"or\",\n",
    "    \"other\",\n",
    "    \"ought\",\n",
    "    \"our\",\n",
    "    \"ours\",\n",
    "    \"ourselves\",\n",
    "    \"out\",\n",
    "    \"over\",\n",
    "    \"own\",\n",
    "    \"same\",\n",
    "    \"she\",\n",
    "    \"she'd\",\n",
    "    \"she'll\",\n",
    "    \"she's\",\n",
    "    \"should\",\n",
    "    \"so\",\n",
    "    \"some\",\n",
    "    \"such\",\n",
    "    \"than\",\n",
    "    \"that\",\n",
    "    \"that's\",\n",
    "    \"the\",\n",
    "    \"their\",\n",
    "    \"theirs\",\n",
    "    \"them\",\n",
    "    \"themselves\",\n",
    "    \"then\",\n",
    "    \"there\",\n",
    "    \"there's\",\n",
    "    \"these\",\n",
    "    \"they\",\n",
    "    \"they'd\",\n",
    "    \"they'll\",\n",
    "    \"they're\",\n",
    "    \"they've\",\n",
    "    \"this\",\n",
    "    \"those\",\n",
    "    \"through\",\n",
    "    \"to\",\n",
    "    \"too\",\n",
    "    \"under\",\n",
    "    \"until\",\n",
    "    \"up\",\n",
    "    \"very\",\n",
    "    \"was\",\n",
    "    \"we\",\n",
    "    \"we'd\",\n",
    "    \"we'll\",\n",
    "    \"we're\",\n",
    "    \"we've\",\n",
    "    \"were\",\n",
    "    \"what\",\n",
    "    \"what's\",\n",
    "    \"when\",\n",
    "    \"when's\",\n",
    "    \"where\",\n",
    "    \"where's\",\n",
    "    \"which\",\n",
    "    \"while\",\n",
    "    \"who\",\n",
    "    \"who's\",\n",
    "    \"whom\",\n",
    "    \"why\",\n",
    "    \"why's\",\n",
    "    \"with\",\n",
    "    \"would\",\n",
    "    \"you\",\n",
    "    \"you'd\",\n",
    "    \"you'll\",\n",
    "    \"you're\",\n",
    "    \"you've\",\n",
    "    \"your\",\n",
    "    \"yours\",\n",
    "    \"yourself\",\n",
    "    \"yourselves\",\n",
    "]"
   ]
  },
  {
   "cell_type": "code",
   "execution_count": 12,
   "metadata": {},
   "outputs": [
    {
     "data": {
      "application/javascript": [
       "\n",
       "            setTimeout(function() {\n",
       "                var nbb_cell_id = 12;\n",
       "                var nbb_unformatted_code = \"train[\\\"text\\\"] = train[\\\"text\\\"].str.lower().apply(alpha_num).apply(remove_stopwords)\\ntest[\\\"text\\\"] = test[\\\"text\\\"].str.lower().apply(alpha_num).apply(remove_stopwords)\";\n",
       "                var nbb_formatted_code = \"train[\\\"text\\\"] = train[\\\"text\\\"].str.lower().apply(alpha_num).apply(remove_stopwords)\\ntest[\\\"text\\\"] = test[\\\"text\\\"].str.lower().apply(alpha_num).apply(remove_stopwords)\";\n",
       "                var nbb_cells = Jupyter.notebook.get_cells();\n",
       "                for (var i = 0; i < nbb_cells.length; ++i) {\n",
       "                    if (nbb_cells[i].input_prompt_number == nbb_cell_id) {\n",
       "                        if (nbb_cells[i].get_text() == nbb_unformatted_code) {\n",
       "                             nbb_cells[i].set_text(nbb_formatted_code);\n",
       "                        }\n",
       "                        break;\n",
       "                    }\n",
       "                }\n",
       "            }, 500);\n",
       "            "
      ],
      "text/plain": [
       "<IPython.core.display.Javascript object>"
      ]
     },
     "metadata": {},
     "output_type": "display_data"
    }
   ],
   "source": [
    "train[\"text\"] = train[\"text\"].str.lower().apply(alpha_num).apply(remove_stopwords)\n",
    "test[\"text\"] = test[\"text\"].str.lower().apply(alpha_num).apply(remove_stopwords)"
   ]
  },
  {
   "cell_type": "code",
   "execution_count": 13,
   "metadata": {},
   "outputs": [
    {
     "data": {
      "text/plain": [
       "((54879,), (19617,), (54879,))"
      ]
     },
     "execution_count": 13,
     "metadata": {},
     "output_type": "execute_result"
    },
    {
     "data": {
      "application/javascript": [
       "\n",
       "            setTimeout(function() {\n",
       "                var nbb_cell_id = 13;\n",
       "                var nbb_unformatted_code = \"x_trn = train[\\\"text\\\"].values\\nx_test = test[\\\"text\\\"].values\\ny = train[\\\"author\\\"].values\\nx_trn.shape, x_test.shape, y.shape\";\n",
       "                var nbb_formatted_code = \"x_trn = train[\\\"text\\\"].values\\nx_test = test[\\\"text\\\"].values\\ny = train[\\\"author\\\"].values\\nx_trn.shape, x_test.shape, y.shape\";\n",
       "                var nbb_cells = Jupyter.notebook.get_cells();\n",
       "                for (var i = 0; i < nbb_cells.length; ++i) {\n",
       "                    if (nbb_cells[i].input_prompt_number == nbb_cell_id) {\n",
       "                        if (nbb_cells[i].get_text() == nbb_unformatted_code) {\n",
       "                             nbb_cells[i].set_text(nbb_formatted_code);\n",
       "                        }\n",
       "                        break;\n",
       "                    }\n",
       "                }\n",
       "            }, 500);\n",
       "            "
      ],
      "text/plain": [
       "<IPython.core.display.Javascript object>"
      ]
     },
     "metadata": {},
     "output_type": "display_data"
    }
   ],
   "source": [
    "x_trn = train[\"text\"].values\n",
    "x_test = test[\"text\"].values\n",
    "y = train[\"author\"].values\n",
    "x_trn.shape, x_test.shape, y.shape"
   ]
  },
  {
   "cell_type": "code",
   "execution_count": 14,
   "metadata": {},
   "outputs": [
    {
     "data": {
      "text/plain": [
       "array(['almost choking much much wanted say strange exclamations came lips pole gazed fixedly bundle notes hand looked odin evident perplexity',\n",
       "       'sister asked suppose',\n",
       "       'engaged one day walked perusing janes last letter dwelling passages proved jane not written spirits instead surprised mr odin saw looking odin meeting putting away letter immediately forcing smile said'],\n",
       "      dtype=object)"
      ]
     },
     "execution_count": 14,
     "metadata": {},
     "output_type": "execute_result"
    },
    {
     "data": {
      "application/javascript": [
       "\n",
       "            setTimeout(function() {\n",
       "                var nbb_cell_id = 14;\n",
       "                var nbb_unformatted_code = \"x_trn[:3]\";\n",
       "                var nbb_formatted_code = \"x_trn[:3]\";\n",
       "                var nbb_cells = Jupyter.notebook.get_cells();\n",
       "                for (var i = 0; i < nbb_cells.length; ++i) {\n",
       "                    if (nbb_cells[i].input_prompt_number == nbb_cell_id) {\n",
       "                        if (nbb_cells[i].get_text() == nbb_unformatted_code) {\n",
       "                             nbb_cells[i].set_text(nbb_formatted_code);\n",
       "                        }\n",
       "                        break;\n",
       "                    }\n",
       "                }\n",
       "            }, 500);\n",
       "            "
      ],
      "text/plain": [
       "<IPython.core.display.Javascript object>"
      ]
     },
     "metadata": {},
     "output_type": "display_data"
    }
   ],
   "source": [
    "x_trn[:3]"
   ]
  },
  {
   "cell_type": "markdown",
   "metadata": {},
   "source": [
    "## Train"
   ]
  },
  {
   "cell_type": "code",
   "execution_count": 15,
   "metadata": {},
   "outputs": [
    {
     "data": {
      "application/javascript": [
       "\n",
       "            setTimeout(function() {\n",
       "                var nbb_cell_id = 15;\n",
       "                var nbb_unformatted_code = \"vocab_sz = 20_000\\nembed_dim = 64\\nmaxlen = 500\\npadding = \\\"post\\\"\";\n",
       "                var nbb_formatted_code = \"vocab_sz = 20_000\\nembed_dim = 64\\nmaxlen = 500\\npadding = \\\"post\\\"\";\n",
       "                var nbb_cells = Jupyter.notebook.get_cells();\n",
       "                for (var i = 0; i < nbb_cells.length; ++i) {\n",
       "                    if (nbb_cells[i].input_prompt_number == nbb_cell_id) {\n",
       "                        if (nbb_cells[i].get_text() == nbb_unformatted_code) {\n",
       "                             nbb_cells[i].set_text(nbb_formatted_code);\n",
       "                        }\n",
       "                        break;\n",
       "                    }\n",
       "                }\n",
       "            }, 500);\n",
       "            "
      ],
      "text/plain": [
       "<IPython.core.display.Javascript object>"
      ]
     },
     "metadata": {},
     "output_type": "display_data"
    }
   ],
   "source": [
    "vocab_sz = 20_000\n",
    "embed_dim = 64\n",
    "maxlen = 500\n",
    "padding = \"post\""
   ]
  },
  {
   "cell_type": "code",
   "execution_count": 16,
   "metadata": {},
   "outputs": [
    {
     "data": {
      "application/javascript": [
       "\n",
       "            setTimeout(function() {\n",
       "                var nbb_cell_id = 16;\n",
       "                var nbb_unformatted_code = \"tokenizer = Tokenizer(num_words=vocab_sz)\\ntokenizer.fit_on_texts(x_trn)\\nword_index = tokenizer.word_index\";\n",
       "                var nbb_formatted_code = \"tokenizer = Tokenizer(num_words=vocab_sz)\\ntokenizer.fit_on_texts(x_trn)\\nword_index = tokenizer.word_index\";\n",
       "                var nbb_cells = Jupyter.notebook.get_cells();\n",
       "                for (var i = 0; i < nbb_cells.length; ++i) {\n",
       "                    if (nbb_cells[i].input_prompt_number == nbb_cell_id) {\n",
       "                        if (nbb_cells[i].get_text() == nbb_unformatted_code) {\n",
       "                             nbb_cells[i].set_text(nbb_formatted_code);\n",
       "                        }\n",
       "                        break;\n",
       "                    }\n",
       "                }\n",
       "            }, 500);\n",
       "            "
      ],
      "text/plain": [
       "<IPython.core.display.Javascript object>"
      ]
     },
     "metadata": {},
     "output_type": "display_data"
    }
   ],
   "source": [
    "tokenizer = Tokenizer(num_words=vocab_sz)\n",
    "tokenizer.fit_on_texts(x_trn)\n",
    "word_index = tokenizer.word_index"
   ]
  },
  {
   "cell_type": "code",
   "execution_count": 17,
   "metadata": {},
   "outputs": [
    {
     "data": {
      "application/javascript": [
       "\n",
       "            setTimeout(function() {\n",
       "                var nbb_cell_id = 17;\n",
       "                var nbb_unformatted_code = \"trn_seqs = tokenizer.texts_to_sequences(x_trn)\\ntest_seqs = tokenizer.texts_to_sequences(x_test)\";\n",
       "                var nbb_formatted_code = \"trn_seqs = tokenizer.texts_to_sequences(x_trn)\\ntest_seqs = tokenizer.texts_to_sequences(x_test)\";\n",
       "                var nbb_cells = Jupyter.notebook.get_cells();\n",
       "                for (var i = 0; i < nbb_cells.length; ++i) {\n",
       "                    if (nbb_cells[i].input_prompt_number == nbb_cell_id) {\n",
       "                        if (nbb_cells[i].get_text() == nbb_unformatted_code) {\n",
       "                             nbb_cells[i].set_text(nbb_formatted_code);\n",
       "                        }\n",
       "                        break;\n",
       "                    }\n",
       "                }\n",
       "            }, 500);\n",
       "            "
      ],
      "text/plain": [
       "<IPython.core.display.Javascript object>"
      ]
     },
     "metadata": {},
     "output_type": "display_data"
    }
   ],
   "source": [
    "trn_seqs = tokenizer.texts_to_sequences(x_trn)\n",
    "test_seqs = tokenizer.texts_to_sequences(x_test)"
   ]
  },
  {
   "cell_type": "code",
   "execution_count": 18,
   "metadata": {},
   "outputs": [
    {
     "data": {
      "text/plain": [
       "((54879, 500), (19617, 500))"
      ]
     },
     "execution_count": 18,
     "metadata": {},
     "output_type": "execute_result"
    },
    {
     "data": {
      "application/javascript": [
       "\n",
       "            setTimeout(function() {\n",
       "                var nbb_cell_id = 18;\n",
       "                var nbb_unformatted_code = \"trn = pad_sequences(trn_seqs, padding=padding, maxlen=maxlen)\\ntest = pad_sequences(test_seqs, padding=padding, maxlen=maxlen)\\ntrn.shape, test.shape\";\n",
       "                var nbb_formatted_code = \"trn = pad_sequences(trn_seqs, padding=padding, maxlen=maxlen)\\ntest = pad_sequences(test_seqs, padding=padding, maxlen=maxlen)\\ntrn.shape, test.shape\";\n",
       "                var nbb_cells = Jupyter.notebook.get_cells();\n",
       "                for (var i = 0; i < nbb_cells.length; ++i) {\n",
       "                    if (nbb_cells[i].input_prompt_number == nbb_cell_id) {\n",
       "                        if (nbb_cells[i].get_text() == nbb_unformatted_code) {\n",
       "                             nbb_cells[i].set_text(nbb_formatted_code);\n",
       "                        }\n",
       "                        break;\n",
       "                    }\n",
       "                }\n",
       "            }, 500);\n",
       "            "
      ],
      "text/plain": [
       "<IPython.core.display.Javascript object>"
      ]
     },
     "metadata": {},
     "output_type": "display_data"
    }
   ],
   "source": [
    "trn = pad_sequences(trn_seqs, padding=padding, maxlen=maxlen)\n",
    "test = pad_sequences(test_seqs, padding=padding, maxlen=maxlen)\n",
    "trn.shape, test.shape"
   ]
  },
  {
   "cell_type": "code",
   "execution_count": 19,
   "metadata": {},
   "outputs": [
    {
     "data": {
      "application/javascript": [
       "\n",
       "            setTimeout(function() {\n",
       "                var nbb_cell_id = 19;\n",
       "                var nbb_unformatted_code = \"cv = model_selection.StratifiedKFold(\\n    n_splits=args[\\\"n_folds\\\"], shuffle=True, random_state=args[\\\"seed\\\"]\\n)\";\n",
       "                var nbb_formatted_code = \"cv = model_selection.StratifiedKFold(\\n    n_splits=args[\\\"n_folds\\\"], shuffle=True, random_state=args[\\\"seed\\\"]\\n)\";\n",
       "                var nbb_cells = Jupyter.notebook.get_cells();\n",
       "                for (var i = 0; i < nbb_cells.length; ++i) {\n",
       "                    if (nbb_cells[i].input_prompt_number == nbb_cell_id) {\n",
       "                        if (nbb_cells[i].get_text() == nbb_unformatted_code) {\n",
       "                             nbb_cells[i].set_text(nbb_formatted_code);\n",
       "                        }\n",
       "                        break;\n",
       "                    }\n",
       "                }\n",
       "            }, 500);\n",
       "            "
      ],
      "text/plain": [
       "<IPython.core.display.Javascript object>"
      ]
     },
     "metadata": {},
     "output_type": "display_data"
    }
   ],
   "source": [
    "cv = model_selection.StratifiedKFold(\n",
    "    n_splits=args[\"n_folds\"], shuffle=True, random_state=args[\"seed\"]\n",
    ")"
   ]
  },
  {
   "cell_type": "code",
   "execution_count": 20,
   "metadata": {},
   "outputs": [
    {
     "data": {
      "application/javascript": [
       "\n",
       "            setTimeout(function() {\n",
       "                var nbb_cell_id = 20;\n",
       "                var nbb_unformatted_code = \"def get_model():\\n    model = Sequential(\\n        [\\n            Embedding(vocab_sz, embed_dim, input_length=maxlen),\\n            Bidirectional(LSTM(64, return_sequences=True)),\\n            Bidirectional(LSTM(64)),\\n            Dense(args[\\\"n_classes\\\"], activation=\\\"softmax\\\"),\\n        ]\\n    )\\n\\n    model.compile(loss=\\\"categorical_crossentropy\\\", optimizer=Adam(learning_rate=0.01))\\n    return model\";\n",
       "                var nbb_formatted_code = \"def get_model():\\n    model = Sequential(\\n        [\\n            Embedding(vocab_sz, embed_dim, input_length=maxlen),\\n            Bidirectional(LSTM(64, return_sequences=True)),\\n            Bidirectional(LSTM(64)),\\n            Dense(args[\\\"n_classes\\\"], activation=\\\"softmax\\\"),\\n        ]\\n    )\\n\\n    model.compile(loss=\\\"categorical_crossentropy\\\", optimizer=Adam(learning_rate=0.01))\\n    return model\";\n",
       "                var nbb_cells = Jupyter.notebook.get_cells();\n",
       "                for (var i = 0; i < nbb_cells.length; ++i) {\n",
       "                    if (nbb_cells[i].input_prompt_number == nbb_cell_id) {\n",
       "                        if (nbb_cells[i].get_text() == nbb_unformatted_code) {\n",
       "                             nbb_cells[i].set_text(nbb_formatted_code);\n",
       "                        }\n",
       "                        break;\n",
       "                    }\n",
       "                }\n",
       "            }, 500);\n",
       "            "
      ],
      "text/plain": [
       "<IPython.core.display.Javascript object>"
      ]
     },
     "metadata": {},
     "output_type": "display_data"
    }
   ],
   "source": [
    "def get_model():\n",
    "    model = Sequential(\n",
    "        [\n",
    "            Embedding(vocab_sz, embed_dim, input_length=maxlen),\n",
    "            Bidirectional(LSTM(64, return_sequences=True)),\n",
    "            Bidirectional(LSTM(64)),\n",
    "            Dense(args[\"n_classes\"], activation=\"softmax\"),\n",
    "        ]\n",
    "    )\n",
    "\n",
    "    model.compile(loss=\"categorical_crossentropy\", optimizer=Adam(learning_rate=0.01))\n",
    "    return model"
   ]
  },
  {
   "cell_type": "code",
   "execution_count": 24,
   "metadata": {},
   "outputs": [
    {
     "name": "stdout",
     "output_type": "stream",
     "text": [
      "Training model for fold #0...\n",
      "Epoch 1/20\n",
      "86/86 [==============================] - 17s 196ms/step - loss: 1.0848 - val_loss: 0.8242\n",
      "Epoch 2/20\n",
      "86/86 [==============================] - 16s 191ms/step - loss: 0.5862 - val_loss: 0.7250\n",
      "Epoch 3/20\n",
      "86/86 [==============================] - 16s 190ms/step - loss: 0.4227 - val_loss: 0.7913\n",
      "Epoch 4/20\n",
      "86/86 [==============================] - 16s 191ms/step - loss: 0.3392 - val_loss: 0.8697\n",
      "Epoch 5/20\n",
      "86/86 [==============================] - ETA: 0s - loss: 0.2800Restoring model weights from the end of the best epoch.\n",
      "86/86 [==============================] - 16s 190ms/step - loss: 0.2800 - val_loss: 0.9880\n",
      "Epoch 00005: early stopping\n",
      "Training model for fold #1...\n",
      "Epoch 1/20\n",
      "86/86 [==============================] - 17s 198ms/step - loss: 1.0671 - val_loss: 0.7885\n",
      "Epoch 2/20\n",
      "86/86 [==============================] - 16s 192ms/step - loss: 0.5732 - val_loss: 0.7451\n",
      "Epoch 3/20\n",
      "86/86 [==============================] - 16s 191ms/step - loss: 0.4186 - val_loss: 0.7845\n",
      "Epoch 4/20\n",
      "86/86 [==============================] - 17s 193ms/step - loss: 0.3312 - val_loss: 0.8839\n",
      "Epoch 5/20\n",
      "86/86 [==============================] - ETA: 0s - loss: 0.2815Restoring model weights from the end of the best epoch.\n",
      "86/86 [==============================] - 17s 192ms/step - loss: 0.2815 - val_loss: 0.9709\n",
      "Epoch 00005: early stopping\n",
      "Training model for fold #2...\n",
      "Epoch 1/20\n",
      "86/86 [==============================] - 17s 199ms/step - loss: 1.0386 - val_loss: 0.7766\n",
      "Epoch 2/20\n",
      "86/86 [==============================] - 17s 192ms/step - loss: 0.5722 - val_loss: 0.7409\n",
      "Epoch 3/20\n",
      "86/86 [==============================] - 17s 192ms/step - loss: 0.4169 - val_loss: 0.7959\n",
      "Epoch 4/20\n",
      "86/86 [==============================] - 16s 192ms/step - loss: 0.3276 - val_loss: 0.8966\n",
      "Epoch 5/20\n",
      "86/86 [==============================] - ETA: 0s - loss: 0.2722Restoring model weights from the end of the best epoch.\n",
      "86/86 [==============================] - 17s 192ms/step - loss: 0.2722 - val_loss: 0.9770\n",
      "Epoch 00005: early stopping\n",
      "Training model for fold #3...\n",
      "Epoch 1/20\n",
      "86/86 [==============================] - 17s 199ms/step - loss: 1.0409 - val_loss: 0.7523\n",
      "Epoch 2/20\n",
      "86/86 [==============================] - 16s 191ms/step - loss: 0.5647 - val_loss: 0.7416\n",
      "Epoch 3/20\n",
      "86/86 [==============================] - 17s 193ms/step - loss: 0.4117 - val_loss: 0.7912\n",
      "Epoch 4/20\n",
      "86/86 [==============================] - 17s 192ms/step - loss: 0.3264 - val_loss: 0.8619\n",
      "Epoch 5/20\n",
      "86/86 [==============================] - ETA: 0s - loss: 0.2695Restoring model weights from the end of the best epoch.\n",
      "86/86 [==============================] - 17s 192ms/step - loss: 0.2695 - val_loss: 0.9764\n",
      "Epoch 00005: early stopping\n",
      "Training model for fold #4...\n",
      "Epoch 1/20\n",
      "86/86 [==============================] - 17s 199ms/step - loss: 1.1568 - val_loss: 0.7735\n",
      "Epoch 2/20\n",
      "86/86 [==============================] - 17s 193ms/step - loss: 0.5971 - val_loss: 0.7218\n",
      "Epoch 3/20\n",
      "86/86 [==============================] - 17s 192ms/step - loss: 0.4247 - val_loss: 0.7679\n",
      "Epoch 4/20\n",
      "86/86 [==============================] - 17s 193ms/step - loss: 0.3393 - val_loss: 0.8301\n",
      "Epoch 5/20\n",
      "86/86 [==============================] - ETA: 0s - loss: 0.2924Restoring model weights from the end of the best epoch.\n",
      "86/86 [==============================] - 17s 193ms/step - loss: 0.2924 - val_loss: 0.9687\n",
      "Epoch 00005: early stopping\n"
     ]
    },
    {
     "data": {
      "application/javascript": [
       "\n",
       "            setTimeout(function() {\n",
       "                var nbb_cell_id = 24;\n",
       "                var nbb_unformatted_code = \"p_val = np.zeros((train.shape[0], args[\\\"n_classes\\\"]))\\np_test = np.zeros((test.shape[0], args[\\\"n_classes\\\"]))\\n\\nfor fold, (trn_, val_) in enumerate(cv.split(trn, y)):\\n    print(f\\\"Training model for fold #{fold}...\\\")\\n\\n    x_trn, y_trn = trn[trn_], y[trn_]\\n    x_val, y_val = trn[val_], y[val_]\\n\\n    model = get_model()\\n    es = EarlyStopping(\\n        monitor=\\\"val_loss\\\",\\n        min_delta=0.001,\\n        patience=3,\\n        verbose=1,\\n        mode=\\\"min\\\",\\n        baseline=None,\\n        restore_best_weights=True,\\n    )\\n\\n    model.fit(\\n        x_trn,\\n        to_categorical(y_trn),\\n        validation_data=(x_val, to_categorical(y_val)),\\n        epochs=20,\\n        batch_size=512,\\n        callbacks=[es],\\n    )\\n\\n    p_val[val_] = model.predict(x_val)\\n    p_test += model.predict(test) / args[\\\"n_folds\\\"]\";\n",
       "                var nbb_formatted_code = \"p_val = np.zeros((train.shape[0], args[\\\"n_classes\\\"]))\\np_test = np.zeros((test.shape[0], args[\\\"n_classes\\\"]))\\n\\nfor fold, (trn_, val_) in enumerate(cv.split(trn, y)):\\n    print(f\\\"Training model for fold #{fold}...\\\")\\n\\n    x_trn, y_trn = trn[trn_], y[trn_]\\n    x_val, y_val = trn[val_], y[val_]\\n\\n    model = get_model()\\n    es = EarlyStopping(\\n        monitor=\\\"val_loss\\\",\\n        min_delta=0.001,\\n        patience=3,\\n        verbose=1,\\n        mode=\\\"min\\\",\\n        baseline=None,\\n        restore_best_weights=True,\\n    )\\n\\n    model.fit(\\n        x_trn,\\n        to_categorical(y_trn),\\n        validation_data=(x_val, to_categorical(y_val)),\\n        epochs=20,\\n        batch_size=512,\\n        callbacks=[es],\\n    )\\n\\n    p_val[val_] = model.predict(x_val)\\n    p_test += model.predict(test) / args[\\\"n_folds\\\"]\";\n",
       "                var nbb_cells = Jupyter.notebook.get_cells();\n",
       "                for (var i = 0; i < nbb_cells.length; ++i) {\n",
       "                    if (nbb_cells[i].input_prompt_number == nbb_cell_id) {\n",
       "                        if (nbb_cells[i].get_text() == nbb_unformatted_code) {\n",
       "                             nbb_cells[i].set_text(nbb_formatted_code);\n",
       "                        }\n",
       "                        break;\n",
       "                    }\n",
       "                }\n",
       "            }, 500);\n",
       "            "
      ],
      "text/plain": [
       "<IPython.core.display.Javascript object>"
      ]
     },
     "metadata": {},
     "output_type": "display_data"
    }
   ],
   "source": [
    "p_val = np.zeros((train.shape[0], args[\"n_classes\"]))\n",
    "p_test = np.zeros((test.shape[0], args[\"n_classes\"]))\n",
    "\n",
    "for fold, (trn_, val_) in enumerate(cv.split(trn, y)):\n",
    "    print(f\"Training model for fold #{fold}...\")\n",
    "\n",
    "    x_trn, y_trn = trn[trn_], y[trn_]\n",
    "    x_val, y_val = trn[val_], y[val_]\n",
    "\n",
    "    model = get_model()\n",
    "    es = EarlyStopping(\n",
    "        monitor=\"val_loss\",\n",
    "        min_delta=0.001,\n",
    "        patience=3,\n",
    "        verbose=1,\n",
    "        mode=\"min\",\n",
    "        baseline=None,\n",
    "        restore_best_weights=True,\n",
    "    )\n",
    "\n",
    "    model.fit(\n",
    "        x_trn,\n",
    "        to_categorical(y_trn),\n",
    "        validation_data=(x_val, to_categorical(y_val)),\n",
    "        epochs=20,\n",
    "        batch_size=512,\n",
    "        callbacks=[es],\n",
    "    )\n",
    "\n",
    "    p_val[val_] = model.predict(x_val)\n",
    "    p_test += model.predict(test) / args[\"n_folds\"]"
   ]
  },
  {
   "cell_type": "code",
   "execution_count": 26,
   "metadata": {},
   "outputs": [
    {
     "name": "stdout",
     "output_type": "stream",
     "text": [
      "Accuracy (CV):   0.7289\n",
      "Log Loss (CV):   0.7349\n"
     ]
    },
    {
     "data": {
      "application/javascript": [
       "\n",
       "            setTimeout(function() {\n",
       "                var nbb_cell_id = 26;\n",
       "                var nbb_unformatted_code = \"accuracy = metrics.accuracy_score(y, np.argmax(p_val, axis=-1))\\nlog_loss = metrics.log_loss(pd.get_dummies(y), p_val)\\nprint(f\\\"Accuracy (CV): {accuracy:8.4f}\\\")\\nprint(f\\\"Log Loss (CV): {log_loss:8.4f}\\\")\";\n",
       "                var nbb_formatted_code = \"accuracy = metrics.accuracy_score(y, np.argmax(p_val, axis=-1))\\nlog_loss = metrics.log_loss(pd.get_dummies(y), p_val)\\nprint(f\\\"Accuracy (CV): {accuracy:8.4f}\\\")\\nprint(f\\\"Log Loss (CV): {log_loss:8.4f}\\\")\";\n",
       "                var nbb_cells = Jupyter.notebook.get_cells();\n",
       "                for (var i = 0; i < nbb_cells.length; ++i) {\n",
       "                    if (nbb_cells[i].input_prompt_number == nbb_cell_id) {\n",
       "                        if (nbb_cells[i].get_text() == nbb_unformatted_code) {\n",
       "                             nbb_cells[i].set_text(nbb_formatted_code);\n",
       "                        }\n",
       "                        break;\n",
       "                    }\n",
       "                }\n",
       "            }, 500);\n",
       "            "
      ],
      "text/plain": [
       "<IPython.core.display.Javascript object>"
      ]
     },
     "metadata": {},
     "output_type": "display_data"
    }
   ],
   "source": [
    "accuracy = metrics.accuracy_score(y, np.argmax(p_val, axis=-1))\n",
    "log_loss = metrics.log_loss(pd.get_dummies(y), p_val)\n",
    "print(f\"Accuracy (CV): {accuracy:8.4f}\")\n",
    "print(f\"Log Loss (CV): {log_loss:8.4f}\")"
   ]
  },
  {
   "cell_type": "code",
   "execution_count": 27,
   "metadata": {},
   "outputs": [
    {
     "data": {
      "application/javascript": [
       "\n",
       "            setTimeout(function() {\n",
       "                var nbb_cell_id = 27;\n",
       "                var nbb_unformatted_code = \"np.savetxt(p_val_file, p_val, fmt=\\\"%.6f\\\", delimiter=\\\",\\\")\\nnp.savetxt(p_test_file, p_test, fmt=\\\"%.6f\\\", delimiter=\\\",\\\")\";\n",
       "                var nbb_formatted_code = \"np.savetxt(p_val_file, p_val, fmt=\\\"%.6f\\\", delimiter=\\\",\\\")\\nnp.savetxt(p_test_file, p_test, fmt=\\\"%.6f\\\", delimiter=\\\",\\\")\";\n",
       "                var nbb_cells = Jupyter.notebook.get_cells();\n",
       "                for (var i = 0; i < nbb_cells.length; ++i) {\n",
       "                    if (nbb_cells[i].input_prompt_number == nbb_cell_id) {\n",
       "                        if (nbb_cells[i].get_text() == nbb_unformatted_code) {\n",
       "                             nbb_cells[i].set_text(nbb_formatted_code);\n",
       "                        }\n",
       "                        break;\n",
       "                    }\n",
       "                }\n",
       "            }, 500);\n",
       "            "
      ],
      "text/plain": [
       "<IPython.core.display.Javascript object>"
      ]
     },
     "metadata": {},
     "output_type": "display_data"
    }
   ],
   "source": [
    "np.savetxt(p_val_file, p_val, fmt=\"%.6f\", delimiter=\",\")\n",
    "np.savetxt(p_test_file, p_test, fmt=\"%.6f\", delimiter=\",\")"
   ]
  },
  {
   "cell_type": "markdown",
   "metadata": {},
   "source": [
    "## Visualization"
   ]
  },
  {
   "cell_type": "code",
   "execution_count": 28,
   "metadata": {},
   "outputs": [
    {
     "name": "stdout",
     "output_type": "stream",
     "text": [
      "Model: \"sequential_6\"\n",
      "_________________________________________________________________\n",
      "Layer (type)                 Output Shape              Param #   \n",
      "=================================================================\n",
      "embedding_6 (Embedding)      (None, 500, 64)           1280000   \n",
      "_________________________________________________________________\n",
      "bidirectional_12 (Bidirectio (None, 500, 128)          66048     \n",
      "_________________________________________________________________\n",
      "bidirectional_13 (Bidirectio (None, 128)               98816     \n",
      "_________________________________________________________________\n",
      "dense_6 (Dense)              (None, 5)                 645       \n",
      "=================================================================\n",
      "Total params: 1,445,509\n",
      "Trainable params: 1,445,509\n",
      "Non-trainable params: 0\n",
      "_________________________________________________________________\n"
     ]
    },
    {
     "data": {
      "application/javascript": [
       "\n",
       "            setTimeout(function() {\n",
       "                var nbb_cell_id = 28;\n",
       "                var nbb_unformatted_code = \"model.summary()\";\n",
       "                var nbb_formatted_code = \"model.summary()\";\n",
       "                var nbb_cells = Jupyter.notebook.get_cells();\n",
       "                for (var i = 0; i < nbb_cells.length; ++i) {\n",
       "                    if (nbb_cells[i].input_prompt_number == nbb_cell_id) {\n",
       "                        if (nbb_cells[i].get_text() == nbb_unformatted_code) {\n",
       "                             nbb_cells[i].set_text(nbb_formatted_code);\n",
       "                        }\n",
       "                        break;\n",
       "                    }\n",
       "                }\n",
       "            }, 500);\n",
       "            "
      ],
      "text/plain": [
       "<IPython.core.display.Javascript object>"
      ]
     },
     "metadata": {},
     "output_type": "display_data"
    }
   ],
   "source": [
    "model.summary()"
   ]
  },
  {
   "cell_type": "code",
   "execution_count": 29,
   "metadata": {},
   "outputs": [
    {
     "data": {
      "image/png": "[encoded data removed]",
      "text/plain": [
       "<IPython.core.display.Image object>"
      ]
     },
     "execution_count": 29,
     "metadata": {},
     "output_type": "execute_result"
    },
    {
     "data": {
      "application/javascript": [
       "\n",
       "            setTimeout(function() {\n",
       "                var nbb_cell_id = 29;\n",
       "                var nbb_unformatted_code = \"plot_model(model)\";\n",
       "                var nbb_formatted_code = \"plot_model(model)\";\n",
       "                var nbb_cells = Jupyter.notebook.get_cells();\n",
       "                for (var i = 0; i < nbb_cells.length; ++i) {\n",
       "                    if (nbb_cells[i].input_prompt_number == nbb_cell_id) {\n",
       "                        if (nbb_cells[i].get_text() == nbb_unformatted_code) {\n",
       "                             nbb_cells[i].set_text(nbb_formatted_code);\n",
       "                        }\n",
       "                        break;\n",
       "                    }\n",
       "                }\n",
       "            }, 500);\n",
       "            "
      ],
      "text/plain": [
       "<IPython.core.display.Javascript object>"
      ]
     },
     "metadata": {},
     "output_type": "display_data"
    }
   ],
   "source": [
    "plot_model(model)"
   ]
  },
  {
   "cell_type": "markdown",
   "metadata": {},
   "source": [
    "## Submission"
   ]
  },
  {
   "cell_type": "code",
   "execution_count": 30,
   "metadata": {},
   "outputs": [
    {
     "data": {
      "text/html": [
       "<div>\n",
       "<style scoped>\n",
       "    .dataframe tbody tr th:only-of-type {\n",
       "        vertical-align: middle;\n",
       "    }\n",
       "\n",
       "    .dataframe tbody tr th {\n",
       "        vertical-align: top;\n",
       "    }\n",
       "\n",
       "    .dataframe thead th {\n",
       "        text-align: right;\n",
       "    }\n",
       "</style>\n",
       "<table border=\"1\" class=\"dataframe\">\n",
       "  <thead>\n",
       "    <tr style=\"text-align: right;\">\n",
       "      <th></th>\n",
       "      <th>0</th>\n",
       "      <th>1</th>\n",
       "      <th>2</th>\n",
       "      <th>3</th>\n",
       "      <th>4</th>\n",
       "    </tr>\n",
       "    <tr>\n",
       "      <th>index</th>\n",
       "      <th></th>\n",
       "      <th></th>\n",
       "      <th></th>\n",
       "      <th></th>\n",
       "      <th></th>\n",
       "    </tr>\n",
       "  </thead>\n",
       "  <tbody>\n",
       "    <tr>\n",
       "      <th>0</th>\n",
       "      <td>0.058852</td>\n",
       "      <td>0.336574</td>\n",
       "      <td>0.468319</td>\n",
       "      <td>0.122551</td>\n",
       "      <td>0.013703</td>\n",
       "    </tr>\n",
       "    <tr>\n",
       "      <th>1</th>\n",
       "      <td>0.138280</td>\n",
       "      <td>0.480891</td>\n",
       "      <td>0.016365</td>\n",
       "      <td>0.045293</td>\n",
       "      <td>0.319171</td>\n",
       "    </tr>\n",
       "    <tr>\n",
       "      <th>2</th>\n",
       "      <td>0.872093</td>\n",
       "      <td>0.102348</td>\n",
       "      <td>0.010649</td>\n",
       "      <td>0.005855</td>\n",
       "      <td>0.009056</td>\n",
       "    </tr>\n",
       "    <tr>\n",
       "      <th>3</th>\n",
       "      <td>0.013870</td>\n",
       "      <td>0.008742</td>\n",
       "      <td>0.877104</td>\n",
       "      <td>0.051134</td>\n",
       "      <td>0.049150</td>\n",
       "    </tr>\n",
       "    <tr>\n",
       "      <th>4</th>\n",
       "      <td>0.374121</td>\n",
       "      <td>0.066719</td>\n",
       "      <td>0.037064</td>\n",
       "      <td>0.417482</td>\n",
       "      <td>0.104614</td>\n",
       "    </tr>\n",
       "  </tbody>\n",
       "</table>\n",
       "</div>"
      ],
      "text/plain": [
       "              0         1         2         3         4\n",
       "index                                                  \n",
       "0      0.058852  0.336574  0.468319  0.122551  0.013703\n",
       "1      0.138280  0.480891  0.016365  0.045293  0.319171\n",
       "2      0.872093  0.102348  0.010649  0.005855  0.009056\n",
       "3      0.013870  0.008742  0.877104  0.051134  0.049150\n",
       "4      0.374121  0.066719  0.037064  0.417482  0.104614"
      ]
     },
     "execution_count": 30,
     "metadata": {},
     "output_type": "execute_result"
    },
    {
     "data": {
      "application/javascript": [
       "\n",
       "            setTimeout(function() {\n",
       "                var nbb_cell_id = 30;\n",
       "                var nbb_unformatted_code = \"subm = pd.read_csv(args[\\\"sample_csv\\\"], index_col=0)\\nsubm[subm.columns] = p_test\\nsubm.head()\";\n",
       "                var nbb_formatted_code = \"subm = pd.read_csv(args[\\\"sample_csv\\\"], index_col=0)\\nsubm[subm.columns] = p_test\\nsubm.head()\";\n",
       "                var nbb_cells = Jupyter.notebook.get_cells();\n",
       "                for (var i = 0; i < nbb_cells.length; ++i) {\n",
       "                    if (nbb_cells[i].input_prompt_number == nbb_cell_id) {\n",
       "                        if (nbb_cells[i].get_text() == nbb_unformatted_code) {\n",
       "                             nbb_cells[i].set_text(nbb_formatted_code);\n",
       "                        }\n",
       "                        break;\n",
       "                    }\n",
       "                }\n",
       "            }, 500);\n",
       "            "
      ],
      "text/plain": [
       "<IPython.core.display.Javascript object>"
      ]
     },
     "metadata": {},
     "output_type": "display_data"
    }
   ],
   "source": [
    "subm = pd.read_csv(args[\"sample_csv\"], index_col=0)\n",
    "subm[subm.columns] = p_test\n",
    "subm.head()"
   ]
  },
  {
   "cell_type": "code",
   "execution_count": 32,
   "metadata": {},
   "outputs": [
    {
     "data": {
      "application/javascript": [
       "\n",
       "            setTimeout(function() {\n",
       "                var nbb_cell_id = 32;\n",
       "                var nbb_unformatted_code = \"subm.to_csv(subm_file)\";\n",
       "                var nbb_formatted_code = \"subm.to_csv(subm_file)\";\n",
       "                var nbb_cells = Jupyter.notebook.get_cells();\n",
       "                for (var i = 0; i < nbb_cells.length; ++i) {\n",
       "                    if (nbb_cells[i].input_prompt_number == nbb_cell_id) {\n",
       "                        if (nbb_cells[i].get_text() == nbb_unformatted_code) {\n",
       "                             nbb_cells[i].set_text(nbb_formatted_code);\n",
       "                        }\n",
       "                        break;\n",
       "                    }\n",
       "                }\n",
       "            }, 500);\n",
       "            "
      ],
      "text/plain": [
       "<IPython.core.display.Javascript object>"
      ]
     },
     "metadata": {},
     "output_type": "display_data"
    }
   ],
   "source": [
    "subm.to_csv(subm_file)"
   ]
  },
  {
   "cell_type": "code",
   "execution_count": null,
   "metadata": {},
   "outputs": [],
   "source": []
  }
 ],
 "metadata": {
  "kernelspec": {
   "display_name": "Python [conda env:tf2] *",
   "language": "python",
   "name": "conda-env-tf2-py"
  },
  "language_info": {
   "codemirror_mode": {
    "name": "ipython",
    "version": 3
   },
   "file_extension": ".py",
   "mimetype": "text/x-python",
   "name": "python",
   "nbconvert_exporter": "python",
   "pygments_lexer": "ipython3",
   "version": "3.7.8"
  }
 },
 "nbformat": 4,
 "nbformat_minor": 4
}
